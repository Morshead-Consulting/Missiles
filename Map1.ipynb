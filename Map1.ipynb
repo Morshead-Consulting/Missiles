{
 "cells": [
  {
   "cell_type": "markdown",
   "id": "2cecb4bc",
   "metadata": {},
   "source": [
    "map(function, iterable, *iterables)\n",
    "\n",
    "Return an iterator that applies function to every item of iterable, yielding the reults. If additional iterables arguments are passed, function must take that many \n",
    "arguments and is applied to the items from all iterables in parallel. With multiple \n",
    "iterables, the iterator stops when the shortest iterable is exhausted.\n",
    "\n",
    "So, let's use a lambda function that takes a variable number of positional arguments"
   ]
  },
  {
   "cell_type": "markdown",
   "id": "158e6c7e",
   "metadata": {},
   "source": [
    "Remember, A lambda function in Python is a small anonymous function defined with the lambda keyword.\n",
    "\n",
    "The syntax is:\n",
    "lambda arguments: expression.\n",
    "\n",
    "In the folloing exmple we have a one-line function called square which squares the input value.  We try this with an input of 4 expecting an output of 16."
   ]
  },
  {
   "cell_type": "code",
   "execution_count": 4,
   "id": "9862550f",
   "metadata": {},
   "outputs": [
    {
     "name": "stdout",
     "output_type": "stream",
     "text": [
      "16\n"
     ]
    }
   ],
   "source": [
    "square = lambda x: x * x\n",
    "print(square(4))"
   ]
  },
  {
   "cell_type": "markdown",
   "id": "d7870f0d",
   "metadata": {},
   "source": [
    "What does lambda *a: a mean?\n",
    "The *a means \"take any number of positional arguments and pack them into a tuple named a.\"\n",
    "So the following function just returns the arguments in a tuple."
   ]
  },
  {
   "cell_type": "code",
   "execution_count": 2,
   "id": "34d8d3ae",
   "metadata": {},
   "outputs": [
    {
     "data": {
      "text/plain": [
       "(1, 2, 3)"
      ]
     },
     "execution_count": 2,
     "metadata": {},
     "output_type": "execute_result"
    }
   ],
   "source": [
    "f = lambda *a: a\n",
    "f(1, 2, 3)  # returns (1, 2, 3)"
   ]
  },
  {
   "cell_type": "markdown",
   "id": "f4b001f3",
   "metadata": {},
   "source": [
    "To calculate the dot product of two vectors represented as tuples, you can use a lambda function like this:"
   ]
  },
  {
   "cell_type": "code",
   "execution_count": 3,
   "id": "44f2fd59",
   "metadata": {},
   "outputs": [
    {
     "name": "stdout",
     "output_type": "stream",
     "text": [
      "32\n"
     ]
    }
   ],
   "source": [
    "dot = lambda u, v: sum(a * b for a, b in zip(u, v))\n",
    "\n",
    "u = (1, 2, 3)\n",
    "v = (4, 5, 6)\n",
    "\n",
    "print(dot(u, v))"
   ]
  },
  {
   "cell_type": "markdown",
   "id": "50e63368",
   "metadata": {},
   "source": []
  }
 ],
 "metadata": {
  "kernelspec": {
   "display_name": "Python (myenv)",
   "language": "python",
   "name": "myenv"
  },
  "language_info": {
   "codemirror_mode": {
    "name": "ipython",
    "version": 3
   },
   "file_extension": ".py",
   "mimetype": "text/x-python",
   "name": "python",
   "nbconvert_exporter": "python",
   "pygments_lexer": "ipython3",
   "version": "3.11.9"
  }
 },
 "nbformat": 4,
 "nbformat_minor": 5
}
