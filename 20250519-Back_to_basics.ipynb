{
 "cells": [
  {
   "cell_type": "markdown",
   "id": "c90c5cc9",
   "metadata": {},
   "source": [
    "Revising \"Make Your Own Python Text Adventure\" by Phillip Johnson for some basic Python learning."
   ]
  },
  {
   "cell_type": "markdown",
   "id": "765456d4",
   "metadata": {},
   "source": []
  }
 ],
 "metadata": {
  "language_info": {
   "name": "python"
  }
 },
 "nbformat": 4,
 "nbformat_minor": 5
}
