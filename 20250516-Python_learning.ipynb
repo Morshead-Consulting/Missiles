{
 "cells": [
  {
   "cell_type": "markdown",
   "id": "35d8d3b3",
   "metadata": {},
   "source": [
    "These are notes for Richard Wood to help with his Python Learning on Fri 16 May 2025.  See Chapter 5 of 'Learn Python Programming' (4th ed), Fabrizio Romano and Heinrich Kruger (pdf page 194)"
   ]
  },
  {
   "cell_type": "markdown",
   "id": "c76632e0",
   "metadata": {},
   "source": [
    "But first we need a quik reminder on iterators and iterables from Chapter 3.\n",
    "\n",
    "The Python documentation says an **iterator** is \"An object capable of returning its members one at a time. Examples of iterables include all sequence types (such as list, str, and tuple) and some non-sequence types like dict, file objects.\"\n",
    "\n",
    "Python gives us the ability to iterate over iterables, using a type of object called an **iterator** which is an object that represents a stream of data.  So an **iterator** is \"An object representing a stream of data\".  Hmm, not very clear . . . in what sense does it *represent* a stream?"
   ]
  },
  {
   "cell_type": "markdown",
   "id": "4ac4c2d0",
   "metadata": {},
   "source": [
    "But, OMG, we have to wait until Chapter 6, OOP, Decorators, and Iterators to see how to code a custom iterator and iterable objects.\n",
    "\n"
   ]
  },
  {
   "cell_type": "markdown",
   "id": "111a543f",
   "metadata": {},
   "source": [
    "Iterators save memory by only operating on a single element of a collection at a time rather than creating a modified copy."
   ]
  },
  {
   "cell_type": "markdown",
   "id": "33689180",
   "metadata": {},
   "source": [
    "Sometimes we wrap an iterator in a list() constructor to see what's going on. This is because passing an iterator to list() exhausts it and puts all the generated items in a newly created list, which we can easily print and its content."
   ]
  },
  {
   "cell_type": "code",
   "execution_count": 5,
   "id": "651b41ad",
   "metadata": {},
   "outputs": [
    {
     "data": {
      "text/plain": [
       "range(0, 7)"
      ]
     },
     "execution_count": 5,
     "metadata": {},
     "output_type": "execute_result"
    }
   ],
   "source": [
    "range(7)"
   ]
  },
  {
   "cell_type": "markdown",
   "id": "3a36ab48",
   "metadata": {},
   "source": [
    "Wrapping the range in a list() allows us to see the numbers it generates."
   ]
  },
  {
   "cell_type": "code",
   "execution_count": 6,
   "id": "8b4978b4",
   "metadata": {},
   "outputs": [
    {
     "data": {
      "text/plain": [
       "[0, 1, 2, 3, 4, 5, 6]"
      ]
     },
     "execution_count": 6,
     "metadata": {},
     "output_type": "execute_result"
    }
   ],
   "source": [
    "list(range(7))"
   ]
  },
  {
   "cell_type": "markdown",
   "id": "742f13f4",
   "metadata": {},
   "source": [
    "Remember that map(function, iterable, *iterables) returns an iterator that applies function to every item of iterable, yielding the rsults.\n",
    "\n",
    "And blahm balh \"If additional iterables arguments are passed, function must take that many \n",
    "arguments and is applied to the items from all iterables in parallel. With multiple \n",
    "iterables, the iterator stops when the shortest iterable is exhausted\"."
   ]
  },
  {
   "cell_type": "code",
   "execution_count": 7,
   "id": "61d7a6b5",
   "metadata": {},
   "outputs": [
    {
     "data": {
      "text/plain": [
       "[(0, 'a', 4), (1, 'b', 5), (2, 'c', 6)]"
      ]
     },
     "execution_count": 7,
     "metadata": {},
     "output_type": "execute_result"
    }
   ],
   "source": [
    "list(map(lambda *a: a, range(3), \"abc\", range(4, 7)))"
   ]
  },
  {
   "cell_type": "markdown",
   "id": "4d5ac7d9",
   "metadata": {},
   "source": [
    "map(function, iterable1, iterable2, iterable3)\n",
    "* The built-in map() function applies function to corresponding items of the iterables.\n",
    "* Stops when the shortest iterable is exhausted."
   ]
  },
  {
   "cell_type": "markdown",
   "id": "1a871016",
   "metadata": {},
   "source": [
    "Let's inspect the inputs first.\n",
    "* range(3) → [0, 1, 2]\n",
    "* \"abc\" → ['a', 'b', 'c'] (a string is an iterable of characters)\n",
    "* range(4, 7) → [4, 5, 6]\n",
    "  \n",
    "Which is therefore equivalent to:"
   ]
  },
  {
   "cell_type": "code",
   "execution_count": 8,
   "id": "f17a1850",
   "metadata": {},
   "outputs": [
    {
     "data": {
      "text/plain": [
       "[(0, 'a', 4), (1, 'b', 5), (2, 'c', 6)]"
      ]
     },
     "execution_count": 8,
     "metadata": {},
     "output_type": "execute_result"
    }
   ],
   "source": [
    "list(map(lambda *a: a, [0, 1, 2], ['a', 'b', 'c'], [4, 5, 6]))"
   ]
  },
  {
   "cell_type": "markdown",
   "id": "e96ca786",
   "metadata": {},
   "source": [
    "What does lambda *a: a do?\n",
    "This is an anonymous function that takes a variable number of arguments (*a) and returns them as a tuple.\n",
    "Each call to the lambda will get one item from each iterable, so the map() applies the lambda to:"
   ]
  },
  {
   "cell_type": "code",
   "execution_count": 9,
   "id": "5775f73e",
   "metadata": {},
   "outputs": [
    {
     "data": {
      "text/plain": [
       "([0, 1, 2],)"
      ]
     },
     "execution_count": 9,
     "metadata": {},
     "output_type": "execute_result"
    }
   ],
   "source": [
    "my_func = lambda *a: a\n",
    "my_func([0, 1, 2])"
   ]
  },
  {
   "cell_type": "markdown",
   "id": "cd7c487d",
   "metadata": {},
   "source": [
    "Remember, we cna use lambdas immediately (in-line);"
   ]
  },
  {
   "cell_type": "code",
   "execution_count": 10,
   "id": "cfab3de8",
   "metadata": {},
   "outputs": [
    {
     "data": {
      "text/plain": [
       "['apple', 'banana', 'cherry']"
      ]
     },
     "execution_count": 10,
     "metadata": {},
     "output_type": "execute_result"
    }
   ],
   "source": [
    "words = ['banana', 'apple', 'cherry']\n",
    "sorted(words, key=lambda word: len(word))"
   ]
  },
  {
   "cell_type": "markdown",
   "id": "31bada92",
   "metadata": {},
   "source": [
    "In this case the lambda function has been passed directly into the function 'sorted'"
   ]
  },
  {
   "cell_type": "markdown",
   "id": "af70a8ed",
   "metadata": {},
   "source": [
    "And, mow I'm diving into lambdas a bit!"
   ]
  },
  {
   "cell_type": "code",
   "execution_count": 11,
   "id": "2831ad4b",
   "metadata": {},
   "outputs": [
    {
     "data": {
      "text/plain": [
       "[2, 3, 4]"
      ]
     },
     "execution_count": 11,
     "metadata": {},
     "output_type": "execute_result"
    }
   ],
   "source": [
    "list(map(lambda x: x + 1, [1, 2, 3]))\n"
   ]
  },
  {
   "cell_type": "code",
   "execution_count": 12,
   "id": "bf2c20f6",
   "metadata": {},
   "outputs": [
    {
     "name": "stdout",
     "output_type": "stream",
     "text": [
      "<map object at 0x00000276B37CB790>\n",
      "[5, 6, 6]\n"
     ]
    }
   ],
   "source": [
    "def myfunc(n):\n",
    "  return len(n)\n",
    "\n",
    "x = map(myfunc, ('apple', 'banana', 'cherry'))\n",
    "\n",
    "print(x)\n",
    "\n",
    "#convert the map into a list, for readability:\n",
    "print(list(x))"
   ]
  },
  {
   "cell_type": "markdown",
   "id": "6c35508c",
   "metadata": {},
   "source": [
    "The map() function executes a specified function for each item in an iterable. The item is sent to the function as a parameter.\n",
    "\n",
    "The syntax is map(function, iterables).\n",
    "\n",
    "The map() function in Python returns a map object, which is an iterator.\n",
    "\n",
    "This iterator yields the results of applying the specified function to each item in the given iterable (or iterables, if more than one is provided)."
   ]
  },
  {
   "cell_type": "markdown",
   "id": "9fcb43fd",
   "metadata": {},
   "source": [
    "Returning a map object (an iterator) makes **map()** memory-efficient, especially for large data sets, because the function is applied on demand (lazy evaluation), rather than computing all results up front."
   ]
  },
  {
   "cell_type": "code",
   "execution_count": 13,
   "id": "7a630c6a",
   "metadata": {},
   "outputs": [
    {
     "name": "stdout",
     "output_type": "stream",
     "text": [
      "<map object at 0x00000276B37C94B0>\n",
      "[1, 4, 9, 16]\n"
     ]
    }
   ],
   "source": [
    "def square(x):\n",
    "    return x * x\n",
    "\n",
    "numbers = [1, 2, 3, 4]\n",
    "result = map(square, numbers)\n",
    "\n",
    "print(result)             # <map object at 0x...>\n",
    "print(list(result))       # [1, 4, 9, 16]\n"
   ]
  },
  {
   "cell_type": "markdown",
   "id": "95f38f3c",
   "metadata": {},
   "source": [
    "result is an iterator, specifically a map object.\n",
    "\n",
    "This means:\n",
    "* It does not compute the results immediately.\n",
    "* You can loop over it (e.g., with for) or convert it into a list, tuple, etc.\n",
    "* Once you've iterated over it, it’s exhausted — you can’t loop over it again unless you recreate it.\n",
    "\n",
    "map() returns an iterator that lazily applies the function to each item in the iterable(s)."
   ]
  },
  {
   "cell_type": "code",
   "execution_count": 17,
   "id": "f6d5ae94",
   "metadata": {},
   "outputs": [
    {
     "name": "stdout",
     "output_type": "stream",
     "text": [
      "<map object at 0x00000276B376FF70>\n"
     ]
    }
   ],
   "source": [
    "result = map(lambda x: x * 2, [1, 2, 3])\n",
    "print(result)"
   ]
  },
  {
   "cell_type": "code",
   "execution_count": 18,
   "id": "615cb5b9",
   "metadata": {},
   "outputs": [
    {
     "name": "stdout",
     "output_type": "stream",
     "text": [
      "2\n",
      "4\n",
      "6\n"
     ]
    }
   ],
   "source": [
    "print(next(result))\n",
    "print(next(result))\n",
    "print(next(result))"
   ]
  },
  {
   "cell_type": "markdown",
   "id": "1302db9b",
   "metadata": {},
   "source": [
    "If you were to use print(next(result)) again, Python would raise a StopIteration error.\n",
    "\n",
    "Anyway, back to lambdas"
   ]
  },
  {
   "cell_type": "code",
   "execution_count": 19,
   "id": "dd60904f",
   "metadata": {},
   "outputs": [
    {
     "name": "stdout",
     "output_type": "stream",
     "text": [
      "16\n"
     ]
    }
   ],
   "source": [
    "square = lambda x: x * x\n",
    "print(square(4))  # Output: 16\n"
   ]
  }
 ],
 "metadata": {
  "kernelspec": {
   "display_name": "Python (myenv)",
   "language": "python",
   "name": "myenv"
  },
  "language_info": {
   "codemirror_mode": {
    "name": "ipython",
    "version": 3
   },
   "file_extension": ".py",
   "mimetype": "text/x-python",
   "name": "python",
   "nbconvert_exporter": "python",
   "pygments_lexer": "ipython3",
   "version": "3.11.9"
  }
 },
 "nbformat": 4,
 "nbformat_minor": 5
}
